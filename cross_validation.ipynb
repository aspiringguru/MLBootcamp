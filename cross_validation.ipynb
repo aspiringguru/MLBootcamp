{
 "cells": [
  {
   "cell_type": "code",
   "execution_count": 1,
   "metadata": {},
   "outputs": [
    {
     "name": "stdout",
     "output_type": "stream",
     "text": [
      "libraries loaded\n"
     ]
    }
   ],
   "source": [
    "import numpy as np\n",
    "from sklearn.model_selection import train_test_split\n",
    "from sklearn import datasets\n",
    "from sklearn import svm\n",
    "print (\"libraries loaded\")\n"
   ]
  },
  {
   "cell_type": "code",
   "execution_count": 4,
   "metadata": {},
   "outputs": [
    {
     "name": "stdout",
     "output_type": "stream",
     "text": [
      "type(iris): <class 'sklearn.datasets.base.Bunch'>\n",
      "<class 'numpy.ndarray'> iris.data.shape: (150, 4)\n",
      "<class 'numpy.ndarray'> iris.target.shape: (150,)\n"
     ]
    }
   ],
   "source": [
    "iris = datasets.load_iris()\n",
    "print(\"type(iris):\", type(iris))\n",
    "print(type(iris.data), \"iris.data.shape:\", iris.data.shape)\n",
    "print(type(iris.target), \"iris.target.shape:\", iris.target.shape)\n",
    "\n"
   ]
  },
  {
   "cell_type": "markdown",
   "metadata": {},
   "source": [
    "http://scikit-learn.org/stable/modules/generated/sklearn.model_selection.train_test_split.html\n",
    "test_size : float, int, or None (default is None)\n",
    "If float, should be between 0.0 and 1.0 and represent the proportion of the dataset to include in the test split. If int, represents the absolute number of test samples. If None, the value is automatically set to the complement of the train size. If train size is also None, test size is set to 0.25.\n",
    "\n",
    "random_state : int or RandomState\n",
    "Pseudo-random number generator state used for random sampling.\n",
    "\n",
    "NB: input data has 150 rows.\n",
    "split into 40% as test, 60% train.\n",
    "60% x 150 = 90, 40% x 150 = 60.\n"
   ]
  },
  {
   "cell_type": "code",
   "execution_count": 6,
   "metadata": {},
   "outputs": [
    {
     "name": "stdout",
     "output_type": "stream",
     "text": [
      "X_train: <class 'numpy.ndarray'> (90, 4)\n",
      "X_test: <class 'numpy.ndarray'> (60, 4)\n",
      "y_train: <class 'numpy.ndarray'> (90,)\n",
      "y_test: <class 'numpy.ndarray'> (60,)\n"
     ]
    }
   ],
   "source": [
    "X_train, X_test, y_train, y_test = train_test_split(iris.data, iris.target, test_size=0.4, random_state=0)\n",
    "print (\"X_train:\", type(X_train), X_train.shape)\n",
    "print (\"X_test:\", type(X_test), X_test.shape)\n",
    "print (\"y_train:\", type(y_train), y_train.shape)\n",
    "print (\"y_test:\", type(y_test), y_test.shape)"
   ]
  },
  {
   "cell_type": "markdown",
   "metadata": {},
   "source": [
    "http://scikit-learn.org/stable/modules/generated/sklearn.svm.SVC.html\n",
    "kernel : string, optional (default=’rbf’)\n",
    "Specifies the kernel type to be used in the algorithm. It must be one of ‘linear’, ‘poly’, ‘rbf’, ‘sigmoid’, ‘precomputed’ or a callable. If none is given, ‘rbf’ will be used. If a callable is given it is used to pre-compute the kernel matrix from data matrices; that matrix should be an array of shape (n_samples, n_samples).\n",
    "\n",
    "C : float, optional (default=1.0)\n",
    "Penalty parameter C of the error term.\n",
    "\n",
    "NB: see documentation for rest of parameters to tune with.\n"
   ]
  },
  {
   "cell_type": "code",
   "execution_count": 9,
   "metadata": {},
   "outputs": [
    {
     "name": "stdout",
     "output_type": "stream",
     "text": [
      "<class 'sklearn.svm.classes.SVC'>\n"
     ]
    },
    {
     "data": {
      "text/plain": [
       "0.96666666666666667"
      ]
     },
     "execution_count": 9,
     "metadata": {},
     "output_type": "execute_result"
    }
   ],
   "source": [
    "clf = svm.SVC(kernel='linear', C=1).fit(X_train, y_train)\n",
    "print (type(clf))\n",
    "#now test accuracy of the model.\n",
    "clf.score(X_test, y_test) "
   ]
  },
  {
   "cell_type": "code",
   "execution_count": 10,
   "metadata": {},
   "outputs": [
    {
     "name": "stdout",
     "output_type": "stream",
     "text": [
      "<class 'sklearn.svm.classes.SVC'>\n"
     ]
    },
    {
     "data": {
      "text/plain": [
       "0.96666666666666667"
      ]
     },
     "execution_count": 10,
     "metadata": {},
     "output_type": "execute_result"
    }
   ],
   "source": [
    "#try again with a different kernel.\n",
    "clf = svm.SVC(kernel='poly', C=1).fit(X_train, y_train)\n",
    "print (type(clf))\n",
    "#now test accuracy of the model.\n",
    "clf.score(X_test, y_test) \n",
    "#no real difference. ugh"
   ]
  },
  {
   "cell_type": "code",
   "execution_count": 20,
   "metadata": {},
   "outputs": [
    {
     "name": "stdout",
     "output_type": "stream",
     "text": [
      "<class 'sklearn.svm.classes.SVC'>\n"
     ]
    },
    {
     "data": {
      "text/plain": [
       "0.94999999999999996"
      ]
     },
     "execution_count": 20,
     "metadata": {},
     "output_type": "execute_result"
    }
   ],
   "source": [
    "#try again with a different kernel.\n",
    "clf = svm.SVC(kernel='rbf', C=1).fit(X_train, y_train)\n",
    "print (type(clf))\n",
    "#now test accuracy of the model.\n",
    "clf.score(X_test, y_test) \n",
    "#different result"
   ]
  },
  {
   "cell_type": "code",
   "execution_count": 24,
   "metadata": {},
   "outputs": [
    {
     "name": "stdout",
     "output_type": "stream",
     "text": [
      "X_train2 = X_train: False\n",
      "y_train2 = y_train: False\n",
      "<class 'sklearn.svm.classes.SVC'>\n"
     ]
    },
    {
     "data": {
      "text/plain": [
       "0.98333333333333328"
      ]
     },
     "execution_count": 24,
     "metadata": {},
     "output_type": "execute_result"
    }
   ],
   "source": [
    "X_train2, X_test2, y_train2, y_test2 = train_test_split(iris.data, iris.target, test_size=0.4, random_state=1)\n",
    "print (\"X_train2 = X_train:\", np.array_equal(X_train2, X_train))\n",
    "print (\"y_train2 = y_train:\", np.array_equal(y_train2, y_train))\n",
    "clf = svm.SVC(kernel='rbf', C=1).fit(X_train2, y_train2)\n",
    "print (type(clf))\n",
    "#now test accuracy of the model.\n",
    "clf.score(X_test2, y_test2) \n",
    "#NB: different result."
   ]
  },
  {
   "cell_type": "code",
   "execution_count": 25,
   "metadata": {},
   "outputs": [
    {
     "name": "stdout",
     "output_type": "stream",
     "text": [
      "X_train2 = X_train3: False\n",
      "y_train2 = y_train3: False\n",
      "X_train3 = X_train: False\n",
      "y_train3 = y_train: False\n",
      "<class 'sklearn.svm.classes.SVC'>\n"
     ]
    },
    {
     "data": {
      "text/plain": [
       "0.96666666666666667"
      ]
     },
     "execution_count": 25,
     "metadata": {},
     "output_type": "execute_result"
    }
   ],
   "source": [
    "X_train3, X_test3, y_train3, y_test3 = train_test_split(iris.data, iris.target, test_size=0.4, random_state=2)\n",
    "print (\"X_train2 = X_train3:\", np.array_equal(X_train2, X_train3))\n",
    "print (\"y_train2 = y_train3:\", np.array_equal(y_train2, y_train3))\n",
    "print (\"X_train3 = X_train:\", np.array_equal(X_train3, X_train))\n",
    "print (\"y_train3 = y_train:\", np.array_equal(y_train3, y_train))\n",
    "\n",
    "clf = svm.SVC(kernel='rbf', C=1).fit(X_train3, y_train3)\n",
    "print (type(clf))\n",
    "#now test accuracy of the model.\n",
    "clf.score(X_test3, y_test3) \n",
    "#NB: different result."
   ]
  },
  {
   "cell_type": "code",
   "execution_count": 26,
   "metadata": {},
   "outputs": [
    {
     "name": "stdout",
     "output_type": "stream",
     "text": [
      "X_train2 = X_train3: False\n",
      "y_train2 = y_train3: False\n",
      "X_train3 = X_train: False\n",
      "y_train3 = y_train: False\n",
      "X_train4 = X_train3: True\n",
      "y_train4 = y_train3: True\n",
      "<class 'sklearn.svm.classes.SVC'>\n"
     ]
    },
    {
     "data": {
      "text/plain": [
       "0.96666666666666667"
      ]
     },
     "execution_count": 26,
     "metadata": {},
     "output_type": "execute_result"
    }
   ],
   "source": [
    "X_train4, X_test4, y_train4, y_test4 = train_test_split(iris.data, iris.target, test_size=0.4, random_state=2)\n",
    "print (\"X_train2 = X_train3:\", np.array_equal(X_train2, X_train3))\n",
    "print (\"y_train2 = y_train3:\", np.array_equal(y_train2, y_train3))\n",
    "print (\"X_train3 = X_train:\", np.array_equal(X_train3, X_train))\n",
    "print (\"y_train3 = y_train:\", np.array_equal(y_train3, y_train))\n",
    "print (\"X_train4 = X_train3:\", np.array_equal(X_train4, X_train3))\n",
    "print (\"y_train4 = y_train3:\", np.array_equal(y_train4, y_train3))\n",
    "#NB: if random_state=x then rame random selection of rows \n",
    "\n",
    "clf = svm.SVC(kernel='rbf', C=1).fit(X_train3, y_train3)\n",
    "print (type(clf))\n",
    "#now test accuracy of the model.\n",
    "clf.score(X_test3, y_test3) \n",
    "#NB: different result."
   ]
  },
  {
   "cell_type": "code",
   "execution_count": 23,
   "metadata": {},
   "outputs": [
    {
     "name": "stdout",
     "output_type": "stream",
     "text": [
      "<class 'sklearn.svm.classes.SVC'>\n"
     ]
    },
    {
     "data": {
      "text/plain": [
       "0.26666666666666666"
      ]
     },
     "execution_count": 23,
     "metadata": {},
     "output_type": "execute_result"
    }
   ],
   "source": [
    "#try again with a different kernel.\n",
    "clf = svm.SVC(kernel='sigmoid', C=1).fit(X_train, y_train)\n",
    "print (type(clf))\n",
    "#now test accuracy of the model.\n",
    "clf.score(X_test, y_test) \n",
    "#NB: very low accuracy for this dataset."
   ]
  },
  {
   "cell_type": "code",
   "execution_count": null,
   "metadata": {},
   "outputs": [],
   "source": [
    "#todo: make function to repeat these predictions multipl times, record and plot score to demonstrate behaviour"
   ]
  },
  {
   "cell_type": "code",
   "execution_count": null,
   "metadata": {
    "collapsed": true
   },
   "outputs": [],
   "source": []
  }
 ],
 "metadata": {
  "kernelspec": {
   "display_name": "Python 3",
   "language": "python",
   "name": "python3"
  },
  "language_info": {
   "codemirror_mode": {
    "name": "ipython",
    "version": 3
   },
   "file_extension": ".py",
   "mimetype": "text/x-python",
   "name": "python",
   "nbconvert_exporter": "python",
   "pygments_lexer": "ipython3",
   "version": "3.6.1"
  }
 },
 "nbformat": 4,
 "nbformat_minor": 2
}
